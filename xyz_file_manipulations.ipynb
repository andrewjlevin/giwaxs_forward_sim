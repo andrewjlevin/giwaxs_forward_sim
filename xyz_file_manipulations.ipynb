{
 "cells": [
  {
   "cell_type": "code",
   "execution_count": 7,
   "id": "b9d27039-887a-4344-8d13-ece554d3ed51",
   "metadata": {},
   "outputs": [],
   "source": [
    "import numpy as np"
   ]
  },
  {
   "cell_type": "code",
   "execution_count": 8,
   "id": "6c8faa18-b60d-4596-a338-18c58e17cf96",
   "metadata": {},
   "outputs": [],
   "source": [
    "def rotate_coordinates(file_path, output_path, theta_x, theta_y, theta_z):\n",
    "    \n",
    "    with open(file_path, 'r') as file:\n",
    "        lines = file.readlines()\n",
    "    \n",
    "    # Convert degrees to radians for rotations\n",
    "    theta_x_rad = np.radians(theta_x)\n",
    "    theta_y_rad = np.radians(theta_y)\n",
    "    theta_z_rad = np.radians(theta_z)\n",
    "\n",
    "    # Rotation matrix for counterclockwise rotation about the x-axis\n",
    "    rotation_matrix_x = np.array([\n",
    "        [1, 0, 0],\n",
    "        [0, np.cos(theta_x_rad), -np.sin(theta_x_rad)],\n",
    "        [0, np.sin(theta_x_rad), np.cos(theta_x_rad)]\n",
    "    ])\n",
    "    \n",
    "    # Rotation matrix for counterclockwise rotation about the y-axis\n",
    "    rotation_matrix_y = np.array([\n",
    "        [np.cos(theta_y_rad), 0, np.sin(theta_y_rad)],\n",
    "        [0, 1, 0],\n",
    "        [-np.sin(theta_y_rad), 0, np.cos(theta_y_rad)]\n",
    "    ])\n",
    "\n",
    "    # Rotation matrix for counterclockwise rotation about the z-axis\n",
    "    rotation_matrix_z = np.array([\n",
    "        [np.cos(theta_z_rad), -np.sin(theta_z_rad), 0],\n",
    "        [np.sin(theta_z_rad), np.cos(theta_z_rad), 0],\n",
    "        [0, 0, 1]\n",
    "    ])\n",
    "\n",
    "    # Process each line containing atomic coordinates\n",
    "    rotated_lines = []\n",
    "    for line in lines[2:]:  # Skip first two lines (atom count and comment)\n",
    "        parts = line.split()\n",
    "        if len(parts) == 4:\n",
    "            atom, x, y, z = parts\n",
    "            coords = np.array([float(x), float(y), float(z)])\n",
    "\n",
    "            # Apply rotations\n",
    "            if theta_x != 0:\n",
    "                coords = np.matmul(rotation_matrix_x, coords)\n",
    "            if theta_y != 0:\n",
    "                coords = np.matmul(rotation_matrix_y, coords)\n",
    "            if theta_z != 0:\n",
    "                coords = np.matmul(rotation_matrix_z, coords)\n",
    "\n",
    "            # Create new line with rotated coordinates\n",
    "            new_line = f\"{atom}    {coords[0]:.5f}    {coords[1]:.5f}    {coords[2]:.5f}\\n\"\n",
    "            rotated_lines.append(new_line)\n",
    "            \n",
    "    new_xyz_content = lines[:2] + rotated_lines\n",
    "    \n",
    "    with open(output_path, 'w') as file:\n",
    "        file.writelines(new_xyz_content)\n",
    "\n",
    "def translate_coordinates(file_path, output_path, translation_vector):\n",
    "    \n",
    "    with open(file_path, 'r') as file:\n",
    "        lines = file.readlines()\n",
    "    translation_vector = np.asarray(translation_vector)\n",
    "    translated_lines = []\n",
    "    for line in lines[2:]:  # Skip first two lines (atom count and comment)\n",
    "        parts = line.split()\n",
    "        if len(parts) == 4:\n",
    "            atom, x, y, z = parts\n",
    "            coords = np.array([float(x), float(y), float(z)])\n",
    "\n",
    "            # Apply translation\n",
    "            translated_coords = coords + translation_vector\n",
    "\n",
    "            # Create new line with translated coordinates\n",
    "            new_line = f\"{atom}    {translated_coords[0]:.5f}    {translated_coords[1]:.5f}    {translated_coords[2]:.5f}\\n\"\n",
    "            translated_lines.append(new_line)\n",
    "            \n",
    "    new_xyz_content = lines[:2] + translated_lines\n",
    "    \n",
    "    with open(output_path, 'w') as file:\n",
    "        file.writelines(new_xyz_content)\n",
    "\n",
    "def xyz_to_poscar(xyz_path, output_path, unit_cell_a, unit_cell_b, unit_cell_c):\n",
    "    # Extracting the atomic symbols and positions from the xyz file\n",
    "    with open(xyz_path, 'r') as file:\n",
    "        lines = file.readlines()\n",
    "        \n",
    "    atom_data = []\n",
    "    \n",
    "    for line in lines[2:]:  # Skip the first two lines\n",
    "        parts = line.split()\n",
    "        if len(parts) == 4:\n",
    "            symbol, x, y, z = parts\n",
    "            atom_data.append((symbol, np.array([float(x), float(y), float(z)])))\n",
    "\n",
    "    # Sort the atom data by atomic symbol\n",
    "    atom_data.sort(key=lambda x: x[0])\n",
    "\n",
    "    # Separate the symbols and positions\n",
    "    sorted_symbols, sorted_positions = zip(*atom_data)\n",
    "\n",
    "    # Convert the absolute positions to fractional coordinates relative to the unit cell\n",
    "    # fractional_positions = [pos / unit_cell_dimensions for pos in sorted_positions]\n",
    "\n",
    "    # Prepare the POSCAR header\n",
    "    poscar_header = [\n",
    "        \"Generated POSCAR file\\n\",\n",
    "        \"1.0\\n\",  # Universal scaling factor\n",
    "        f\"{unit_cell_a[0]} {unit_cell_a[1]} {unit_cell_a[2]}\\n\",  # Unit cell vector a\n",
    "        f\"{unit_cell_b[0]} {unit_cell_b[1]} {unit_cell_b[2]}\\n\",  # Unit cell vector b\n",
    "        f\"{unit_cell_c[0]} {unit_cell_c[1]} {unit_cell_c[2]}\\n\"   # Unit cell vector c\n",
    "    ]\n",
    "\n",
    "    # Counting the number of atoms for each species\n",
    "    unique_symbols = sorted(set(sorted_symbols))  # Sort to ensure consistent order\n",
    "    atom_counts = [sorted_symbols.count(symbol) for symbol in unique_symbols]\n",
    "\n",
    "    # Adding atomic species and count lines\n",
    "    poscar_header.append(' '.join(unique_symbols) + '\\n')\n",
    "    poscar_header.append(' '.join(map(str, atom_counts)) + '\\n')\n",
    "\n",
    "    # Coordinate type (Direct for fractional coordinates)\n",
    "    poscar_header.append(\"Cartesian\\n\")\n",
    "\n",
    "    # Prepare POSCAR body with sorted fractional coordinates\n",
    "    poscar_body = [f\"{pos[0]:.16f} {pos[1]:.16f} {pos[2]:.16f}\\n\" for pos in sorted_positions]\n",
    "\n",
    "    sorted_poscar_content = poscar_header + poscar_body\n",
    "\n",
    "    # Write the new sorted POSCAR file\n",
    "    with open(output_path, 'w') as file:\n",
    "        file.writelines(sorted_poscar_content)\n"
   ]
  },
  {
   "cell_type": "code",
   "execution_count": 21,
   "id": "7010d042-15d2-4468-b776-3eed2fabaf20",
   "metadata": {},
   "outputs": [],
   "source": [
    "#rotate to align backbone to x-axis\n",
    "# rotate_coordinates('PM6_poscar/PM6_4_no_side_relax.xyz','PM6_poscar/PM6_4_rotated.xyz', 0, 17.277, 3.6222)"
   ]
  },
  {
   "cell_type": "code",
   "execution_count": 17,
   "id": "a775383c-1a79-4a9c-84b1-32a0607e3836",
   "metadata": {},
   "outputs": [],
   "source": [
    "#rotate again to align backbone to x-axis\n",
    "# rotate_coordinates('PM6_poscar/PM6_4_rotated.xyz','PM6_poscar/PM6_4_rotated2.xyz', 0, 0.5314, 0)"
   ]
  },
  {
   "cell_type": "code",
   "execution_count": 18,
   "id": "6766cfca-eeab-4c73-8185-d576abb97e43",
   "metadata": {},
   "outputs": [],
   "source": [
    "#rotate to align backbone to x-axis\n",
    "# translate_coordinates('PM6_poscar/PM6_1_rotated2.xyz','PM6_poscar/PM6_1_translated.xyz', (1.96796,  -14.53940,   -2.19935))"
   ]
  },
  {
   "cell_type": "code",
   "execution_count": 11,
   "id": "9eef43f5-37f5-49e6-b663-dd345572dcda",
   "metadata": {},
   "outputs": [],
   "source": [
    "#convert to poscar\n",
    "xyz_to_poscar('PM6_poscar/pm6_1_faceon_sidechain2.xyz', 'POSCARS/pi150/POSCAR_faceon_April24.vasp', \n",
    "              (21, 0, 0), (0, 19.5, 0), (0, 8.125, 3.6))"
   ]
  },
  {
   "cell_type": "code",
   "execution_count": 12,
   "id": "94434708-0a32-4f07-b8b6-d58c979375a9",
   "metadata": {},
   "outputs": [],
   "source": [
    "#convert to poscar\n",
    "xyz_to_poscar('PM6_poscar/pm6_1_edgeon_sidechain2.xyz', 'POSCARS/pi150/POSCAR_edgeon_April24.vasp', \n",
    "              (19.5, 0, 0), (8.125, 3.6, 0), (0, 0, 21))"
   ]
  },
  {
   "cell_type": "code",
   "execution_count": 13,
   "id": "69d44381-4eb8-43a9-ab08-b42b667d57ec",
   "metadata": {},
   "outputs": [],
   "source": [
    "#convert to poscar\n",
    "xyz_to_poscar('PM6_poscar/PM6_1_flat_edgeon.xyz', 'POSCARS/pi180_lam90/POSCAR_edgeon.vasp', (4.875, 0, 21), (9.75, 3.6, 0), (19.5, 0, 0))"
   ]
  },
  {
   "cell_type": "code",
   "execution_count": 5,
   "id": "0243ad9f-3419-4049-b5dd-9a9b7c300b30",
   "metadata": {},
   "outputs": [],
   "source": [
    "# rotate to align backbone to z-axis\n",
    "rotate_coordinates('PM6_poscar/pm6_1_faceon_bad_sidechain2.xyz', 'PM6_poscar/pm6_1_edgeon_sidechain2.xyz', 90, 0, 0)"
   ]
  },
  {
   "cell_type": "code",
   "execution_count": 17,
   "id": "e8650fbf-3a8c-408b-87d6-c9be83f551aa",
   "metadata": {},
   "outputs": [
    {
     "data": {
      "text/plain": [
       "[0.0, 0.0, 19.5]"
      ]
     },
     "execution_count": 17,
     "metadata": {},
     "output_type": "execute_result"
    }
   ],
   "source": [
    "[22.4,  0.,   0.]\n",
    "[0.,   3.85, 9.75]\n",
    "[0.,   0.,  19.5]"
   ]
  },
  {
   "cell_type": "code",
   "execution_count": null,
   "id": "d1682b2c-df66-4bfb-aa20-1f016f328110",
   "metadata": {},
   "outputs": [],
   "source": [
    "[22.5  0.   0. ]\n",
    "[ 0.    3.85 10.25]\n",
    "[ 0.   0.  20.5]"
   ]
  }
 ],
 "metadata": {
  "kernelspec": {
   "display_name": "Python 3 (ipykernel)",
   "language": "python",
   "name": "python3"
  },
  "language_info": {
   "codemirror_mode": {
    "name": "ipython",
    "version": 3
   },
   "file_extension": ".py",
   "mimetype": "text/x-python",
   "name": "python",
   "nbconvert_exporter": "python",
   "pygments_lexer": "ipython3",
   "version": "3.10.13"
  }
 },
 "nbformat": 4,
 "nbformat_minor": 5
}
