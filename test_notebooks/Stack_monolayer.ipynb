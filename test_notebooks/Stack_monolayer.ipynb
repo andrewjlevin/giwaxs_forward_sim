{
 "cells": [
  {
   "cell_type": "code",
   "execution_count": 9,
   "id": "a52e2a09-a193-4a11-966b-866b6d1cd246",
   "metadata": {},
   "outputs": [],
   "source": [
    "import numpy as np\n",
    "\n",
    "from ptable_dict import ptable, atomic_masses\n",
    "from utilities import write_xyz, load_xyz"
   ]
  },
  {
   "cell_type": "code",
   "execution_count": 10,
   "id": "571d5824-8c9a-4a7e-bf7a-54191bc4e6b3",
   "metadata": {},
   "outputs": [],
   "source": [
    "dirr = '/Users/Thomas2/Library/CloudStorage/OneDrive-UCB-O365/Desktop/Research_Stuff/OPV_GIWAXS/forward_sim_np/'\n",
    "xyz_path = f'{dirr}test_xyz_files/mercury_1.xyz'\n",
    "coords, species = load_xyz(xyz_path)\n",
    "new_coords = []\n",
    "new_species = []\n",
    "for i, coord in enumerate(coords):\n",
    "    new_coord = coord + [0,0,1]\n",
    "    new_coords.append(new_coord)\n",
    "    new_species.append(\"Hg\")\n",
    "\n",
    "for i, coord in enumerate(coords):\n",
    "    new_coord = coord + [0,0,2]\n",
    "    new_coords.append(new_coord)\n",
    "    new_species.append(\"Hg\")\n",
    "\n",
    "for i, coord in enumerate(coords):\n",
    "    new_coord = coord + [0,0,3]\n",
    "    new_coords.append(new_coord)\n",
    "    new_species.append(\"Hg\")\n",
    "\n",
    "for i, coord in enumerate(coords):\n",
    "    new_coord = coord + [0,0,4]\n",
    "    new_coords.append(new_coord)\n",
    "    new_species.append(\"Hg\")\n",
    "\n",
    "for i, coord in enumerate(coords):\n",
    "    new_coord = coord + [0,0,5]\n",
    "    new_coords.append(new_coord)\n",
    "    new_species.append(\"Hg\")\n",
    "\n",
    "new_coords = np.asarray(new_coords)\n",
    "new_species = np.asarray(new_species)\n",
    "save_coords = np.concatenate((coords, new_coords), axis=0)\n",
    "save_species = np.concatenate((species, new_species), axis=0)"
   ]
  },
  {
   "cell_type": "code",
   "execution_count": 11,
   "id": "68231e50-206d-46a5-9cd3-823092bd7efa",
   "metadata": {},
   "outputs": [],
   "source": [
    "write_xyz(f'{dirr}test_xyz_files/mercury_line.xyz', save_coords, save_species)"
   ]
  }
 ],
 "metadata": {
  "kernelspec": {
   "display_name": "Python 3 (ipykernel)",
   "language": "python",
   "name": "python3"
  },
  "language_info": {
   "codemirror_mode": {
    "name": "ipython",
    "version": 3
   },
   "file_extension": ".py",
   "mimetype": "text/x-python",
   "name": "python",
   "nbconvert_exporter": "python",
   "pygments_lexer": "ipython3",
   "version": "3.10.13"
  }
 },
 "nbformat": 4,
 "nbformat_minor": 5
}
