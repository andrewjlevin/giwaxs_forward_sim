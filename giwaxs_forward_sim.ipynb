{
 "cells": [
  {
   "cell_type": "markdown",
   "id": "f199c5d8-9ad6-4416-87dd-6ec0d8ab4a17",
   "metadata": {},
   "source": [
    "# import packages"
   ]
  },
  {
   "cell_type": "code",
   "execution_count": null,
   "id": "67602eed-eff9-442d-b8c4-faaaaa502936",
   "metadata": {},
   "outputs": [],
   "source": [
    "import numpy as np\n",
    "import matplotlib\n",
    "import matplotlib.pyplot as plt\n",
    "from matplotlib.pyplot import subplots\n",
    "from scipy.signal import convolve\n",
    "from mpl_toolkits.mplot3d import Axes3D\n",
    "from numpy.fft import fftn, fftshift\n",
    "import dask.array as da\n",
    "%matplotlib widget"
   ]
  },
  {
   "cell_type": "markdown",
   "id": "cab41405-c6a7-4543-ab30-dc1a054f33a8",
   "metadata": {},
   "source": [
    "# import local files"
   ]
  },
  {
   "cell_type": "code",
   "execution_count": null,
   "id": "4e74b8a6-e1b4-4444-a344-07c96902d42a",
   "metadata": {},
   "outputs": [],
   "source": [
    "from ptable_dict import ptable, atomic_masses\n",
    "from utilities import write_xyz, load_xyz, rotation_matrix, gaussian_kernel\n",
    "from meshgrids import generate_density_grid, convert_grid_qspace, plot_3D_grid\n",
    "from detector import make_detector, rotate_about_normal, rotate_about_horizontal, rotate_about_vertical, intersect_detector"
   ]
  },
  {
   "cell_type": "markdown",
   "id": "dd801e01-e1e4-4e08-b8ab-6e4690ead83d",
   "metadata": {},
   "source": [
    "# Generate and plot electron density voxel map for given xyz file"
   ]
  },
  {
   "cell_type": "code",
   "execution_count": null,
   "id": "48bbd3d0-bcf2-4905-a9b9-98160f05ab60",
   "metadata": {},
   "outputs": [],
   "source": [
    "%%time\n",
    "dirr = '/Users/Thomas2/Library/CloudStorage/OneDrive-UCB-O365/Desktop/Research_Stuff/OPV_GIWAXS/forward_sim/'\n",
    "xyz_path = f'{dirr}test_xyz_files/Benzene.xyz'\n",
    "sigma = 0\n",
    "voxel_size = 0.01\n",
    "dens_grid, x_axis, y_axis, z_axis = generate_density_grid(xyz_path, sigma, voxel_size)"
   ]
  },
  {
   "cell_type": "code",
   "execution_count": null,
   "id": "04561f27-6384-43ec-b675-faa520b90f81",
   "metadata": {},
   "outputs": [],
   "source": [
    "dens_grid"
   ]
  },
  {
   "cell_type": "code",
   "execution_count": null,
   "id": "dfb50940-4ec9-432b-a922-a9924e94b8cf",
   "metadata": {},
   "outputs": [],
   "source": [
    "%%time\n",
    "test = dens_grid.compute()"
   ]
  },
  {
   "cell_type": "code",
   "execution_count": null,
   "id": "c28b38df-4698-4dd0-a4ac-d2ce570121f3",
   "metadata": {},
   "outputs": [],
   "source": [
    "threshold = 0\n",
    "num_levels=20\n",
    "cmap = 'plasma'\n",
    "plot_3D_grid(test, x_axis, y_axis, z_axis, cmap, threshold, num_levels)"
   ]
  },
  {
   "cell_type": "markdown",
   "id": "373acd00-ab72-4311-b130-a80cbd81cdd6",
   "metadata": {},
   "source": [
    "# Generate and plot electron density reciprocal space voxel map for given xyz file"
   ]
  },
  {
   "cell_type": "code",
   "execution_count": null,
   "id": "7a185c5d-920f-4f04-b380-1d236d463b7d",
   "metadata": {},
   "outputs": [],
   "source": [
    "iq, qx, qy, qz = convert_grid_qspace(dens_grid, x_axis, y_axis, z_axis)\n",
    "threshold = 99\n",
    "num_levels=30\n",
    "cmap = 'plasma'\n",
    "# plot_3D_grid(iq, qx, qy, qz, cmap, threshold, num_levels)"
   ]
  },
  {
   "cell_type": "markdown",
   "id": "8e91453f-ad59-415d-9892-9e6e4db825d1",
   "metadata": {},
   "source": [
    "# find q-resolutions"
   ]
  },
  {
   "cell_type": "code",
   "execution_count": null,
   "id": "74345a01-04d9-4c7e-9939-a8f23c4049dc",
   "metadata": {},
   "outputs": [],
   "source": [
    "x_vals = qx[0,:,0]\n",
    "y_vals = qy[:,0,0]\n",
    "z_vals = qz[0,0,:]\n",
    "qx_res = x_vals[1]-x_vals[0]\n",
    "qy_res = y_vals[1]-y_vals[0]\n",
    "qz_res = z_vals[1]-z_vals[0]\n",
    "print(f'Resolutions are [qx={qx_res:.4f}, qy={qy_res:.4f}, qz={qz_res:.4f}]')"
   ]
  },
  {
   "cell_type": "markdown",
   "id": "4c52ab30-a74d-44c3-8201-64786de5fdc5",
   "metadata": {},
   "source": [
    "# Set up Detector"
   ]
  },
  {
   "cell_type": "code",
   "execution_count": null,
   "id": "ceaa3e2c-e025-4ed4-9cbe-b670e72fa5a9",
   "metadata": {},
   "outputs": [],
   "source": [
    "det_pixels = (200,200) #horizontal, vertical\n",
    "det_qs = (15,15) #horizontal, vertical (these are absolute maximums. detector centered at 0)\n",
    "det_x_grid, det_y_grid, det_z_grid, det_h, det_v = make_detector(det_qs[0], det_pixels[0], det_qs[1], det_pixels[1])\n"
   ]
  },
  {
   "cell_type": "markdown",
   "id": "7794554d-f1bb-4787-8fb3-f6151861426c",
   "metadata": {},
   "source": [
    "# Rotate detector"
   ]
  },
  {
   "cell_type": "code",
   "execution_count": null,
   "id": "6f192adf-a688-4a6c-80be-99adcf64922c",
   "metadata": {},
   "outputs": [],
   "source": [
    "psi = 0 #rotation in degrees of detector about detector normal axis\n",
    "det_x_grid, det_y_grid, det_z_grid = rotate_about_normal(det_x_grid, det_y_grid, det_z_grid, psi)"
   ]
  },
  {
   "cell_type": "code",
   "execution_count": null,
   "id": "c648fafb-d568-4b59-888b-ad554245077f",
   "metadata": {},
   "outputs": [],
   "source": [
    "phi = 90 #rotation in degrees of detector about detector vertical axis\n",
    "det_x_grid, det_y_grid, det_z_grid = rotate_about_vertical(det_x_grid, det_y_grid, det_z_grid, phi)"
   ]
  },
  {
   "cell_type": "code",
   "execution_count": null,
   "id": "ec41d10a-8e22-45ee-9573-fca58031a0c3",
   "metadata": {},
   "outputs": [],
   "source": [
    "theta = 0 #rotation in degrees of detector about detector horizontal axis\n",
    "det_x_grid, det_y_grid, det_z_grid = rotate_about_vertical(det_x_grid, det_y_grid, det_z_grid, theta)"
   ]
  },
  {
   "cell_type": "code",
   "execution_count": null,
   "id": "42cf26c9-fcbb-486a-9b7c-cc40fb707da0",
   "metadata": {},
   "outputs": [],
   "source": [
    "det_ints = intersect_detector(iq, qx, qy, qz, det_x_grid, det_y_grid, det_z_grid, det_h, det_v)\n",
    "\n",
    "# plot\n",
    "fig, ax1 = subplots()\n",
    "ax1.imshow(np.log(det_ints),\n",
    "           norm=matplotlib.colors.Normalize(),\n",
    "           extent=(np.min(det_h),np.max(det_h),np.min(det_v),np.max(det_v)),\n",
    "           cmap='turbo',\n",
    "           origin = 'lower')\n",
    "ax1.set_xlabel('qxy')\n",
    "ax1.set_ylabel('qz')"
   ]
  },
  {
   "cell_type": "code",
   "execution_count": null,
   "id": "9989febf-46e9-42ae-b257-b94d7bf716dd",
   "metadata": {},
   "outputs": [],
   "source": [
    "import numpy as np\n",
    "import dask.array as da\n",
    "from dask.array.fft import fftn, ifftn\n",
    "from scipy.fft import fftshift\n",
    "from dask_image.ndfilters import convolve\n",
    "\n",
    "def generate_density_grid(xyz_path, sigma, voxel_size):\n",
    "    \"\"\"\n",
    "    Generates a 3D voxelized electron density grid from .xyz file using Dask. \n",
    "    Electron density is smeared using gaussian convolution with width sigma. \n",
    "    Smearing is skipped if sigma=0.\n",
    "    \n",
    "    Parameters:\n",
    "    - xyz_path: string, path to xyz file of molecule, NP, etc\n",
    "    - sigma: peak width where FWHM=2 sqrt(2ln(2))sigma. Set to 0 for no smearing\n",
    "    \n",
    "    Returns:\n",
    "    - density_grid: 3D meshgrid of electron density values\n",
    "    - x_mesh: 3D meshgrid of x coordinate values \n",
    "    - y_mesh: 3D meshgrid of y coordinate values \n",
    "    - z_mesh: 3D meshgrid of z coordinate values \n",
    "    \"\"\"\n",
    "    # Extracting the atomic symbols and positions from the xyz file\n",
    "    coords, symbols = load_xyz(xyz_path)\n",
    "\n",
    "    # Shift coords array to origin (buffer ensures room for Gaussian smearing)\n",
    "    coords = np.array(coords)\n",
    "    buffer = 3 * sigma # same size as Gaussian kernel (made later)\n",
    "    coords[:, 0] -= np.min(coords[:, 0]) - buffer\n",
    "    coords[:, 1] -= np.min(coords[:, 1]) - buffer\n",
    "    coords[:, 2] -= np.min(coords[:, 2]) - buffer\n",
    "\n",
    "    # Axis grids\n",
    "    grid_size_x = int(np.ceil((np.max(coords[:, 0]) + buffer) / voxel_size))\n",
    "    grid_size_y = int(np.ceil((np.max(coords[:, 1]) + buffer) / voxel_size))\n",
    "    grid_size_z = int(np.ceil((np.max(coords[:, 2]) + buffer) / voxel_size))\n",
    "    x_axis = np.linspace(0, grid_size_x * voxel_size, grid_size_x)\n",
    "    y_axis = np.linspace(0, grid_size_y * voxel_size, grid_size_y)\n",
    "    z_axis = np.linspace(0, grid_size_z * voxel_size, grid_size_z)\n",
    "\n",
    "    #create dask meshgrids\n",
    "    x_mesh, y_mesh, z_mesh = da.meshgrid(x_axis, y_axis, z_axis)\n",
    "\n",
    "    # Create an empty grid with Dask\n",
    "    density_grid = da.zeros_like(x_mesh)\n",
    "\n",
    "    # Populate the grid\n",
    "    for coord, symbol in zip(coords, symbols):\n",
    "        grid_coord = (coord / voxel_size).astype(int)\n",
    "        density_grid[grid_coord[1], grid_coord[0], grid_coord[2]] += ptable[symbol] * voxel_size ** 3\n",
    "\n",
    "    # Create a Gaussian kernel\n",
    "    if sigma:\n",
    "        sigma_voxel = sigma/voxel_size\n",
    "        kernel_size = 6 * sigma_voxel + 1  # Ensure the kernel size covers enough of the Gaussian\n",
    "        gaussian_kernel_3d = gaussian_kernel(kernel_size, sigma_voxel)\n",
    "        # Convolve using dask_image.ndfilters.convolve\n",
    "        density_grid = convolve(density_grid, gaussian_kernel_3d)\n",
    "\n",
    "    # Compute the result\n",
    "    # density_grid = density_grid.compute()\n",
    "    # x_mesh = x_mesh.compute()\n",
    "    # y_mesh = y_mesh.compute()\n",
    "    # z_mesh = z_mesh.compute()\n",
    "\n",
    "    return density_grid, x_mesh, y_mesh, z_mesh\n"
   ]
  }
 ],
 "metadata": {
  "kernelspec": {
   "display_name": "Python 3 (ipykernel)",
   "language": "python",
   "name": "python3"
  },
  "language_info": {
   "codemirror_mode": {
    "name": "ipython",
    "version": 3
   },
   "file_extension": ".py",
   "mimetype": "text/x-python",
   "name": "python",
   "nbconvert_exporter": "python",
   "pygments_lexer": "ipython3",
   "version": "3.10.13"
  }
 },
 "nbformat": 4,
 "nbformat_minor": 5
}
