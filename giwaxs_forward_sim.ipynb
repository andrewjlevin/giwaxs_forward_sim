{
 "cells": [
  {
   "cell_type": "markdown",
   "id": "f199c5d8-9ad6-4416-87dd-6ec0d8ab4a17",
   "metadata": {},
   "source": [
    "# import packages"
   ]
  },
  {
   "cell_type": "code",
   "execution_count": null,
   "id": "67602eed-eff9-442d-b8c4-faaaaa502936",
   "metadata": {},
   "outputs": [],
   "source": [
    "import numpy as np\n",
    "import matplotlib\n",
    "import matplotlib.pyplot as plt\n",
    "from matplotlib.pyplot import subplots\n",
    "from scipy.signal import convolve\n",
    "from mpl_toolkits.mplot3d import Axes3D\n",
    "from numpy.fft import fftn, fftshift\n",
    "import glob\n",
    "from tqdm.auto import tqdm\n",
    "import fabio\n",
    "import os\n",
    "%matplotlib widget"
   ]
  },
  {
   "cell_type": "markdown",
   "id": "cab41405-c6a7-4543-ab30-dc1a054f33a8",
   "metadata": {},
   "source": [
    "# import local files"
   ]
  },
  {
   "cell_type": "code",
   "execution_count": null,
   "id": "4e74b8a6-e1b4-4444-a344-07c96902d42a",
   "metadata": {},
   "outputs": [],
   "source": [
    "from ptable_dict import ptable, atomic_masses\n",
    "from utilities import write_xyz, load_xyz, rotation_matrix, gaussian_kernel\n",
    "from meshgrids import generate_density_grid, convert_grid_qspace, plot_3D_grid\n",
    "from detector import make_detector, rotate_about_normal, rotate_about_horizontal, rotate_about_vertical\n",
    "from detector import intersect_detector, rotate_psi_phi_theta, mirror_vertical_horizontal\n",
    "from giwaxs_comparison import mask_forbidden_pixels, mirror_qmap_positive_qxy_only, normalize_qmap, rebin_and_combine_qmaps"
   ]
  },
  {
   "cell_type": "markdown",
   "id": "dd801e01-e1e4-4e08-b8ab-6e4690ead83d",
   "metadata": {},
   "source": [
    "# Generate and plot real-space voxel map for xyz file"
   ]
  },
  {
   "cell_type": "code",
   "execution_count": null,
   "id": "48bbd3d0-bcf2-4905-a9b9-98160f05ab60",
   "metadata": {},
   "outputs": [],
   "source": [
    "%%time\n",
    "dirr = os.getcwd()\n",
    "xyz_path = f'{dirr}/test_xyz_files/graphite_small.xyz'\n",
    "sigma = 0.2\n",
    "voxel_size = 0.1\n",
    "dens_grid, x_axis, y_axis, z_axis = generate_density_grid(xyz_path, sigma, voxel_size, min_ax_size=256)"
   ]
  },
  {
   "cell_type": "code",
   "execution_count": null,
   "id": "60ffcb00-7742-488b-9343-6f01148c4f08",
   "metadata": {},
   "outputs": [],
   "source": [
    "threshold = 99.99\n",
    "num_levels=10\n",
    "cmap = 'plasma'\n",
    "plot_3D_grid(dens_grid, x_axis, y_axis, z_axis, cmap, threshold, num_levels, log=True)"
   ]
  },
  {
   "cell_type": "markdown",
   "id": "373acd00-ab72-4311-b130-a80cbd81cdd6",
   "metadata": {},
   "source": [
    "# Generate and plot reciprocal space voxel map for xyz file"
   ]
  },
  {
   "cell_type": "code",
   "execution_count": null,
   "id": "7a185c5d-920f-4f04-b380-1d236d463b7d",
   "metadata": {},
   "outputs": [],
   "source": [
    "%%time\n",
    "iq, qx, qy, qz = convert_grid_qspace(dens_grid, x_axis, y_axis, z_axis)"
   ]
  },
  {
   "cell_type": "code",
   "execution_count": null,
   "id": "db8dd9e5-64ca-4494-9a79-e8c1811aaad3",
   "metadata": {},
   "outputs": [],
   "source": [
    "threshold = 99.99\n",
    "num_levels=20\n",
    "cmap = 'plasma'\n",
    "plot_3D_grid(iq, qx, qy, qz, cmap, threshold, num_levels)"
   ]
  },
  {
   "cell_type": "markdown",
   "id": "8e91453f-ad59-415d-9892-9e6e4db825d1",
   "metadata": {},
   "source": [
    "# find q-resolutions\n",
    "### The frequency resolution (qbin size) is given by sampling rate (1/voxel_size) over box size (size of molecule)"
   ]
  },
  {
   "cell_type": "code",
   "execution_count": null,
   "id": "74345a01-04d9-4c7e-9939-a8f23c4049dc",
   "metadata": {},
   "outputs": [],
   "source": [
    "x_vals = qx\n",
    "y_vals = qy\n",
    "z_vals = qz\n",
    "qx_res = x_vals[1]-x_vals[0]\n",
    "qy_res = y_vals[1]-y_vals[0]\n",
    "qz_res = z_vals[1]-z_vals[0]\n",
    "print(f'Resolutions are [qx={qx_res:.4f}, qy={qy_res:.4f}, qz={qz_res:.4f}]')"
   ]
  },
  {
   "cell_type": "markdown",
   "id": "4c52ab30-a74d-44c3-8201-64786de5fdc5",
   "metadata": {},
   "source": [
    "# Set up Detector"
   ]
  },
  {
   "cell_type": "code",
   "execution_count": null,
   "id": "ceaa3e2c-e025-4ed4-9cbe-b670e72fa5a9",
   "metadata": {},
   "outputs": [],
   "source": [
    "det_pixels = (200,200) #horizontal, vertical\n",
    "det_qs = (8,8) #horizontal, vertical (these are absolute maximums. detector centered at 0)\n",
    "det_x_grid, det_y_grid, det_z_grid, det_h, det_v = make_detector(det_qs[0], det_pixels[0], det_qs[1], det_pixels[1])\n",
    "\n",
    "psi = 0 #rotation in degrees of detector about detector normal axis\n",
    "det_x_grid, det_y_grid, det_z_grid = rotate_about_normal(det_x_grid, det_y_grid, det_z_grid, psi)\n",
    "phi = 0 #rotation in degrees of detector about detector vertical axis\n",
    "det_x_grid, det_y_grid, det_z_grid = rotate_about_vertical(det_x_grid, det_y_grid, det_z_grid, phi)\n",
    "theta = 0 #rotation in degrees of detector about detector horizontal axis\n",
    "det_x_grid, det_y_grid, det_z_grid = rotate_about_horizontal(det_x_grid, det_y_grid, det_z_grid, theta)"
   ]
  },
  {
   "cell_type": "markdown",
   "id": "7794554d-f1bb-4787-8fb3-f6151861426c",
   "metadata": {},
   "source": [
    "# plot single detector"
   ]
  },
  {
   "cell_type": "code",
   "execution_count": null,
   "id": "42cf26c9-fcbb-486a-9b7c-cc40fb707da0",
   "metadata": {},
   "outputs": [],
   "source": [
    "det_ints = intersect_detector(iq, qx, qy, qz, det_x_grid, det_y_grid, det_z_grid, det_h, det_v)\n",
    "\n",
    "# plot\n",
    "fig, ax1 = subplots()\n",
    "ax1.imshow(det_ints,\n",
    "           norm=matplotlib.colors.Normalize(vmin=np.percentile(det_ints, 10), vmax=np.percentile(det_ints, 99.9)),\n",
    "           extent=(np.min(det_h),np.max(det_h),np.min(det_v),np.max(det_v)),\n",
    "           cmap='turbo',\n",
    "           origin = 'lower')\n",
    "ax1.set_xlabel('q horizontal')\n",
    "ax1.set_ylabel('q vertical')"
   ]
  },
  {
   "cell_type": "markdown",
   "id": "75c099c7-8aa3-44f8-a73b-fa83514d333d",
   "metadata": {},
   "source": [
    "# Generate and sum multiple plots across selected angles"
   ]
  },
  {
   "cell_type": "code",
   "execution_count": null,
   "id": "74414534-90d0-4a0b-84b9-c529bfcb617d",
   "metadata": {},
   "outputs": [],
   "source": [
    "%matplotlib inline\n",
    "dirr = os.getcwd()\n",
    "save_path = f'{dirr}/det_output_files/'\n",
    "if not os.path.exists(save_path):\n",
    "    os.mkdir(save_path)\n",
    "#setup detector\n",
    "det_pixels = (150,150) #horizontal, vertical\n",
    "det_qs = (6.5,6.5) #horizontal, vertical \n",
    "#(these are absolute maximums. detector centered at 0)\n",
    "det_x, det_y, det_z, det_h, det_v = make_detector(det_qs[0], det_pixels[0], det_qs[1], det_pixels[1])\n",
    "np.save(f'{save_path}det_h.npy', det_h)\n",
    "np.save(f'{save_path}det_v.npy', det_v)\n",
    "\n",
    "#initial detector rotation to align detector. \n",
    "#Normal axis of detector should be axis for tilting texture of real-space.\n",
    "#Vertical axis of detector should be axis for fiber-like texture of real-space\n",
    "psi_init = 90\n",
    "phi_init = 90\n",
    "# psi = 0 #rotation in degrees of detector about detector normal axis\n",
    "det_x, det_y, det_z = rotate_about_normal(det_x, det_y, det_z, psi_init)\n",
    "# phi = 0 #rotation in degrees of detector about detector vertical axis\n",
    "det_x, det_y, det_z = rotate_about_vertical(det_x, det_y, det_z, phi_init)\n",
    "\n",
    "#set up rotations to capture disorder in your film. psi=tilting, phi=fiber texture\n",
    "#only need 1/4 of your total rotation space since symmetry allows us to mirror quadrants\n",
    "psis = np.linspace(0,10,num=10) #rotation in degrees of detector about detector normal axis\n",
    "psi_weights = np.ones(30)\n",
    "phis = np.linspace(0,180,num=10)[:-1] #rotation in degrees of detector about detector vertical axis\n",
    "theta = 0 #rotation in degrees of detector about detector horizontal axis\n",
    "\n",
    "for i, psi in enumerate(tqdm(psis)):\n",
    "    for j, phi in enumerate(phis):\n",
    "        det_x, det_y, det_z = rotate_psi_phi_theta(det_x, det_y, det_z, psi, phi, theta)\n",
    "        det_int = intersect_detector(iq, qx, qy, qz, det_x, det_y, det_z, det_h, det_v)\n",
    "        np.save(f'{save_path}det_psi{psi:.0f}_phi{phi:.0f}.npy', det_int)\n",
    "        if i==0 and j==0:\n",
    "            det_sum = det_int\n",
    "        else:\n",
    "            det_sum +=det_int\n",
    "#fold detector sum image to capture full disorder space\n",
    "det_sum = mirror_vertical_horizontal(det_sum)\n",
    "np.save(f'{save_path}det_sum.npy', det_sum)"
   ]
  },
  {
   "cell_type": "code",
   "execution_count": null,
   "id": "2ed2e6bb-f74e-4d87-ad97-42ede8130489",
   "metadata": {},
   "outputs": [],
   "source": [
    "%matplotlib widget\n",
    "fig, ax1 = subplots()\n",
    "cax = ax1.imshow(det_sum,\n",
    "           norm=matplotlib.colors.Normalize(vmin=np.percentile(det_sum, 10), vmax=np.percentile(det_sum, 99.9)),\n",
    "           extent=(np.min(det_h),np.max(det_h),np.min(det_v),np.max(det_v)),\n",
    "           cmap='turbo',\n",
    "           origin = 'lower')\n",
    "ax1.set_xlabel('q horizontal')\n",
    "ax1.set_ylabel('q vertical')\n",
    "# ax1.set_xlim(left=0)\n",
    "# ax1.set_ylim(bottom=0)\n",
    "cbar = fig.colorbar(cax, ax=ax1)"
   ]
  },
  {
   "cell_type": "markdown",
   "id": "8ca6240c-6661-45dd-a7db-b732ed703b39",
   "metadata": {},
   "source": [
    "# Visualize each individual detector across angles"
   ]
  },
  {
   "cell_type": "code",
   "execution_count": null,
   "id": "df97be38-02bd-4822-85f7-269bc9a18f57",
   "metadata": {},
   "outputs": [],
   "source": [
    "%matplotlib inline\n",
    "plt.close('all')\n",
    "### load from previous results\n",
    "dirr = os.getcwd()\n",
    "save_path = f'{dirr}/det_output_files/'\n",
    "det_h = np.load(f'{save_path}det_h.npy')\n",
    "det_v = np.load(f'{save_path}det_v.npy')\n",
    "det_paths = glob.glob(f'{save_path}det_psi*.npy')\n",
    "\n",
    "for i, det_path in enumerate(det_paths):\n",
    "    det_int = np.load(det_path)\n",
    "    fig, ax1 = subplots()\n",
    "    cax = ax1.imshow(det_int,\n",
    "           norm=matplotlib.colors.Normalize(vmin=np.percentile(det_int, 10), vmax=np.percentile(det_int, 99)),\n",
    "           extent=(np.min(det_h),np.max(det_h),np.min(det_v),np.max(det_v)),\n",
    "           cmap='turbo',\n",
    "           origin = 'lower')\n",
    "    ax1.set_xlabel('q horizontal')\n",
    "    ax1.set_ylabel('q vertical')\n",
    "    # ax1.set_xlim(0, 3)\n",
    "    # ax1.set_ylim(0, 3)\n",
    "    cbar = fig.colorbar(cax, ax=ax1)\n",
    "    ax1.set_title(f'Phi = {i*3} degrees')\n",
    "    plt.show()\n",
    "    plt.close('all')\n",
    "    "
   ]
  },
  {
   "cell_type": "code",
   "execution_count": null,
   "id": "63068846-60ba-419f-8070-658ed7949047",
   "metadata": {},
   "outputs": [],
   "source": [
    "dirr = os.getcwd()\n",
    "save_path = f'{dirr}/det_output_files/'\n",
    "det_int = np.load(f'{save_path}det_psi0_phi80.npy')\n",
    "det_h = np.load(f'{save_path}det_h.npy')\n",
    "det_v = np.load(f'{save_path}det_v.npy')\n",
    "\n",
    "fig, ax1 = subplots(1,1)\n",
    "cax = ax1.imshow(det_int,\n",
    "           norm=matplotlib.colors.Normalize(vmin=np.percentile(det_int, 10), vmax=np.percentile(det_int, 99)),\n",
    "           extent=(np.min(det_h),np.max(det_h),np.min(det_v),np.max(det_v)),\n",
    "           cmap='turbo',\n",
    "           origin = 'lower')\n",
    "ax1.set_xlabel('q horizontal')\n",
    "ax1.set_ylabel('q vertical')\n",
    "# ax1.set_xlim(left=0)\n",
    "# ax1.set_ylim(bottom=0)\n",
    "cbar = fig.colorbar(cax, ax=ax1)\n",
    "plt.tight_layout()"
   ]
  },
  {
   "cell_type": "markdown",
   "id": "b4ed7916-b91f-4d62-98a3-ccb759f14541",
   "metadata": {},
   "source": [
    "# Compare to experimental data"
   ]
  },
  {
   "cell_type": "code",
   "execution_count": null,
   "id": "0203137e-f145-4914-a723-82bf7a8bb876",
   "metadata": {},
   "outputs": [],
   "source": [
    "%matplotlib widget\n",
    "#path to background image and axes files from pyFAI output\n",
    "img_name = 'TC11'\n",
    "dirr = os.getcwd()\n",
    "exp_path = f'{dirr}/example_giwaxs/'\n",
    "img_path = f'{exp_path}{img_name}_th0.15_qmap.tif'\n",
    "qxy_path = f'{exp_path}{img_name}_th0.15_qxy.txt'\n",
    "qz_path = f'{exp_path}{img_name}_th0.15_qz.txt'\n",
    "\n",
    "exp_img = fabio.open(img_path).data\n",
    "exp_qxy = np.loadtxt(qxy_path)\n",
    "exp_qz = np.loadtxt(qz_path)\n",
    "\n",
    "exp_img, exp_qxy, exp_qz = mirror_qmap_positive_qxy_only(exp_img, exp_qxy, exp_qz)\n",
    "\n",
    "\n",
    "save_path = f'{dirr}/det_output_files/'\n",
    "det_h = np.load(f'{save_path}det_h.npy')\n",
    "det_v = np.load(f'{save_path}det_v.npy')\n",
    "det_sum = np.load(glob.glob(f'{save_path}det_sum.npy')[0])\n",
    "\n",
    "det_sum = mask_forbidden_pixels(det_sum, det_h, det_v, 0.15, 12700)\n",
    "qmap_compare = rebin_and_combine_qmaps(exp_img, exp_qxy, exp_qz, det_sum, det_h, det_v)\n",
    "\n",
    "fig,ax=plt.subplots(figsize=(10,5))\n",
    "cax = ax.imshow(qmap_compare,\n",
    "           norm=matplotlib.colors.Normalize(vmin=np.percentile(qmap_compare, 50), vmax=np.percentile(qmap_compare, 99.5)),\n",
    "           extent=(np.min(exp_qxy),np.max(exp_qxy),np.min(exp_qz),np.max(exp_qz)),\n",
    "           cmap='turbo',\n",
    "           origin = 'lower')\n",
    "ax.set_xlabel('$\\mathregular{q_{xy}}$ ($\\AA^{-1}$)',fontsize=16)\n",
    "ax.set_ylabel('$\\mathregular{q_z}$ ($\\AA^{-1}$)',fontsize=16)"
   ]
  },
  {
   "cell_type": "code",
   "execution_count": null,
   "id": "93db969f-3524-4dbe-b594-31e8278660fd",
   "metadata": {},
   "outputs": [],
   "source": []
  }
 ],
 "metadata": {
  "kernelspec": {
   "display_name": "Python 3 (ipykernel)",
   "language": "python",
   "name": "python3"
  },
  "language_info": {
   "codemirror_mode": {
    "name": "ipython",
    "version": 3
   },
   "file_extension": ".py",
   "mimetype": "text/x-python",
   "name": "python",
   "nbconvert_exporter": "python",
   "pygments_lexer": "ipython3",
   "version": "3.10.13"
  }
 },
 "nbformat": 4,
 "nbformat_minor": 5
}
